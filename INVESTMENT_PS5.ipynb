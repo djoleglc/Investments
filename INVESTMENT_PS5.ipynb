{
 "cells": [
  {
   "cell_type": "code",
   "execution_count": 1,
   "id": "036263e6",
   "metadata": {},
   "outputs": [
    {
     "name": "stdout",
     "output_type": "stream",
     "text": [
      "[0.60858939 0.20286313 0.18854749]\n",
      "0.10725558659217878\n",
      "0.016456982850098313\n",
      "0.4463163124162761\n"
     ]
    }
   ],
   "source": [
    "import numpy as np \n",
    "import matplotlib.pyplot as plt\n",
    "\n",
    "mu = np.array([0.08, 0.14, 0.16])\n",
    "sigma = np.array([[0.1**2, 0.006 , 0.007],[0.006,0.3**2, 0.021], [0.007,0.021,0.35**2]])\n",
    "one = np.ones(3)\n",
    "A = one.transpose() @ np.linalg.inv(sigma) @ one\n",
    "B =  one.transpose() @ np.linalg.inv(sigma) @ mu\n",
    "w = (1/(B-A*0.05)) *  np.linalg.inv(sigma) @ (mu - 0.05*one)\n",
    "print(w)\n",
    "\n",
    "mu_tan = w.transpose() @ mu \n",
    "print(mu_tan)\n",
    "var_tan = w.transpose() @ sigma @ w\n",
    "print(var_tan)\n",
    "\n",
    "sr_tan = (mu_tan - 0.05)/np.sqrt(var_tan)\n",
    "print(sr_tan)\n",
    "\n"
   ]
  },
  {
   "cell_type": "code",
   "execution_count": 2,
   "id": "b37e9096",
   "metadata": {},
   "outputs": [
    {
     "name": "stdout",
     "output_type": "stream",
     "text": [
      "[ 1.42362301 -0.19449204 -0.22913097]\n",
      "0.024085189718482232\n"
     ]
    }
   ],
   "source": [
    "C = mu.transpose() @ np.linalg.inv(sigma) @ mu \n",
    "delta = A*C - B**2\n",
    "mu_z = 0.05\n",
    "lam = (C - mu_z *B)/delta\n",
    "gamma  = (mu_z * A - B)/delta \n",
    "w_z = lam * np.linalg.inv(sigma) @ one + gamma*np.linalg.inv(sigma) @ mu\n",
    "print(w_z)\n",
    "\n",
    "var_z = w_z.transpose() @ sigma @ w_z\n",
    "print(var_z)\n",
    "\n"
   ]
  },
  {
   "cell_type": "code",
   "execution_count": 6,
   "id": "3597702e",
   "metadata": {},
   "outputs": [
    {
     "name": "stdout",
     "output_type": "stream",
     "text": [
      "2.6762353292965537\n"
     ]
    },
    {
     "data": {
      "image/png": "[encoded data removed]",
      "text/plain": [
       "<Figure size 432x288 with 1 Axes>"
      ]
     },
     "metadata": {
      "needs_background": "light"
     },
     "output_type": "display_data"
    }
   ],
   "source": [
    "a_star = sr_tan/(var_tan**0.5)  *(1/1.3)\n",
    "print(a_star)\n",
    "\n",
    "#calculate sharp ratios for the constrained portfolio \n",
    "x_tan = lambda  a: (mu_tan - mu_z)/(a*(var_tan + var_z)) + (1.3 * var_z)/(var_tan + var_z)\n",
    "a = np.linspace(0.0001,5,100)\n",
    "sr_c = []\n",
    "for i,j in enumerate(a):\n",
    "    if j > a_star:\n",
    "        w_c =  sr_tan/(j*var_tan**0.5) * w\n",
    "    else:\n",
    "        w_c = x_tan(j) * w + (1.3-x_tan(j))*w_z\n",
    "        \n",
    "    mu_c = mu.transpose() @ w_c  +  (1 - w_c.transpose() @ one)*0.05\n",
    "    var_c = w_c.transpose() @ sigma @ w_c\n",
    "    sr_c.append((mu_c - 0.05)/(var_c**0.5))\n",
    "\n",
    "    \n",
    "    \n",
    "#let's consider the unconstrained portfolio sharpratio \n",
    "sr_u = [sr_tan for i in range(100)]\n",
    "\n",
    "plt.plot(a, sr_c, label=\"constrained\")\n",
    "plt.plot(a, sr_u, label=\"unconstrained\")\n",
    "plt.plot(a_star, sr_tan, marker=\"d\", color=\"red\", label=\"a*\")\n",
    "plt.legend()\n",
    "plt.title(\"SHARP RATIO\")\n",
    "plt.show()\n",
    "\n",
    "#we can see that when a is smaller than the cut off risk aversion coefficient the sharpe ratio\n",
    "#tends to decrease towards 0, for values close to 0 the sharpe ratio is around 0.28\n",
    "\n",
    "\n",
    "\n",
    "\n",
    "\n",
    "        \n",
    "        \n",
    "       \n",
    "    "
   ]
  },
  {
   "cell_type": "code",
   "execution_count": 11,
   "id": "0a3d52c8",
   "metadata": {},
   "outputs": [
    {
     "name": "stdout",
     "output_type": "stream",
     "text": [
      "0.03707191011235955\n",
      "0.12559787582123638\n",
      "0.295163511882351\n"
     ]
    }
   ],
   "source": [
    "#exercise 2 BAB\n",
    "a_L, a_H, b_L, b_H = 2.36/100, -4.36/100, 0.55, 1.78\n",
    "alpha = lambda y: y*(a_L - b_L/b_H *a_H)\n",
    "sigma = lambda y: y*0.12*(1+(b_L/b_H)**2 )**(0.5)\n",
    "ir = lambda y:  alpha(y)/sigma(y)\n",
    "print(alpha(1))\n",
    "print(sigma(1))\n",
    "print(ir(1))"
   ]
  },
  {
   "cell_type": "code",
   "execution_count": 44,
   "id": "cdc391cd",
   "metadata": {},
   "outputs": [
    {
     "name": "stdout",
     "output_type": "stream",
     "text": [
      "0.6116463804070863 0.6116463804070863\n"
     ]
    }
   ],
   "source": [
    "ex_m = 0.075\n",
    "sigma_m = 0.14\n",
    "sr_m = ex_m/sigma_m\n",
    "w_BAB = lambda y: (ir(y) * (1/sigma(y))) / (ir(y) * (1/sigma(y)) + sr_m * ( 1/sigma_m))\n",
    "BAB = np.array([1, -b_L/b_H, 1- b_L/b_H])\n",
    "w_BAB(1)/(1-w_BAB(1))  * b_L/b_H\n",
    "\n",
    "max_r = lambda y: (sr_m **2 + ir(y)**2)**0.5\n",
    "max_r(10)\n",
    "#note that max_r does not depend on y \n",
    "print(max_r(1), max_r(100))"
   ]
  }
 ],
 "metadata": {
  "kernelspec": {
   "display_name": "Python 3 (ipykernel)",
   "language": "python",
   "name": "python3"
  },
  "language_info": {
   "codemirror_mode": {
    "name": "ipython",
    "version": 3
   },
   "file_extension": ".py",
   "mimetype": "text/x-python",
   "name": "python",
   "nbconvert_exporter": "python",
   "pygments_lexer": "ipython3",
   "version": "3.9.7"
  }
 },
 "nbformat": 4,
 "nbformat_minor": 5
}
