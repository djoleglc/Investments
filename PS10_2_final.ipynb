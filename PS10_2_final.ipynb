{
  "nbformat": 4,
  "nbformat_minor": 0,
  "metadata": {
    "colab": {
      "name": "PS10_2_final.ipynb",
      "provenance": [],
      "collapsed_sections": []
    },
    "kernelspec": {
      "name": "python3",
      "display_name": "Python 3"
    },
    "language_info": {
      "name": "python"
    }
  },
  "cells": [
    {
      "cell_type": "code",
      "source": [
        "import numpy as np"
      ],
      "metadata": {
        "id": "tNBVKOam2mhg"
      },
      "execution_count": 2,
      "outputs": []
    },
    {
      "cell_type": "code",
      "execution_count": 3,
      "metadata": {
        "colab": {
          "base_uri": "https://localhost:8080/"
        },
        "id": "7gmg2yI12d0v",
        "outputId": "3db3af5d-a9a6-43af-b93b-6121b9a98fec"
      },
      "outputs": [
        {
          "output_type": "stream",
          "name": "stdout",
          "text": [
            "mu_0:\n",
            "[0.05513 0.09681 0.11701 0.12638 0.06024 0.09475 0.10584]\n"
          ]
        }
      ],
      "source": [
        "#2.1\n",
        "corr = np.array([[1, 0.488, 0.478, 0.515, 0.439, 0.512, 0.491],\n",
        "                  [0.488, 1, 0.664, 0.655, 0.310, 0.608, 0.779],\n",
        "                  [0.478, 0.664, 1, 0.861, 0.355, 0.783, 0.668],\n",
        "                  [0.515, 0.655, 0.861, 1, 0.354, 0.777, 0.653],\n",
        "                  [0.439, 0.310, 0.355, 0.354, 1, 0.405, 0.306],\n",
        "                  [0.512, 0.608, 0.783, 0.777, 0.405, 1, 0.652],\n",
        "                  [0.491, 0.779, 0.668, 0.653, 0.306, 0.652, 1]])\n",
        "\n",
        "vol = np.array([0.16, 0.203, 0.248, 0.271, 0.21, 0.20, 0.187])\n",
        "Sigma = np.outer(vol, vol)*corr #Covariance Matrix of Returns\n",
        "\n",
        "w_eq = np.array([0.016, 0.022, 0.052, 0.055, 0.116, 0.124, 0.615]) #given w_eq from the lecture ntoes\n",
        "gamma = 3.5 #risk aversion coefficient\n",
        "\n",
        "mu_0 = gamma*Sigma.dot(w_eq) #mu_0 calulation\n",
        "print(f\"mu_0:\\n{np.round(mu_0,5)}\")"
      ]
    },
    {
      "cell_type": "code",
      "source": [
        "#2.2\n",
        "gamma = 2\n",
        "tau = 0.03 #uncertainty coeffient\n",
        "mu_0 = gamma*Sigma.dot(w_eq) #new mu_0\n",
        "\n",
        "Omega_0 = tau*Sigma #Omega_0 which is defined like the product between tau and Sigma\n",
        "Sigma_0 = Sigma+Omega_0\n",
        "\n",
        "w_0 = np.linalg.inv(gamma*Sigma_0).dot(mu_0) #formula for the weights to obtain market portfolio\n",
        "print(f\"w_0:\\n{np.round(w_0,5)}\\n\")\n",
        "print(f\"The deviations between w_0 and w_eq are:\\n{np.round(w_0-w_eq,5)}\")"
      ],
      "metadata": {
        "colab": {
          "base_uri": "https://localhost:8080/"
        },
        "id": "t-Hk02yU7ZFa",
        "outputId": "e0e0b4d1-2d08-4094-fef5-71fa122c65c3"
      },
      "execution_count": 4,
      "outputs": [
        {
          "output_type": "stream",
          "name": "stdout",
          "text": [
            "w_0:\n",
            "[0.01553 0.02136 0.05049 0.0534  0.11262 0.12039 0.59709]\n",
            "\n",
            "The deviations between w_0 and w_eq are:\n",
            "[-0.00047 -0.00064 -0.00151 -0.0016  -0.00338 -0.00361 -0.01791]\n"
          ]
        }
      ]
    },
    {
      "cell_type": "code",
      "source": [
        "#2.3\n",
        "\n",
        "p_FR = 5.2/(12.4+5.2) \n",
        "p_UK = 12.4/(12.4+5.2)\n",
        "\n",
        "#view portfolios:\n",
        "P = np.array([[0,0, -p_FR, 1, 0, -p_UK, 0],\n",
        "              [0, 1, 0, 0, 0, 0, -1]])\n",
        "\n",
        "Omega = np.array([[0.025*tau, 0],\n",
        "                  [0, 0.015*tau]])\n",
        "q = np.array([0.045, 0.02])\n",
        "\n",
        "#first derived version:\n",
        "mu_bar_1 = mu_0 + Omega_0.dot(P.T).dot(np.linalg.inv(P.dot(Omega_0.dot(P.T))+Omega)).dot(q-P.dot(mu_0))\n",
        "Omega_bar_1 = Omega_0 - Omega_0.dot(P.T).dot(np.linalg.inv(P.dot(Omega_0.dot(P.T))+Omega)).dot(P.dot(Omega_0))\n",
        "\n",
        "#second version:\n",
        "mu_bar = (np.linalg.inv(np.linalg.inv(Omega_0)+P.T.dot(np.linalg.inv(Omega).dot(P))).dot((np.linalg.inv(Omega_0)).dot(mu_0)+P.T.dot(np.linalg.inv(Omega).dot(q))))\n",
        "Omega_bar = np.linalg.inv(np.linalg.inv(Omega_0)+P.T.dot(np.linalg.inv(Omega).dot(P)))\n",
        "\n",
        "print(f\"Posterior expectation of the mean return: \\n {np.round(mu_bar, 5)} \\n\")\n",
        "print(f\"Posterior Covariance Matrix of the mean return: \\n{np.round(Omega_bar, 5)}\\n\\n\")\n",
        "\n",
        "#check if the two versions coincide:\n",
        "print(f\"The differences of the two versions for the mean are:\\n{np.round(mu_bar_1-mu_bar, 5)}\\n\")\n",
        "print(f\"The differences of the two versions for the Covariance Matrix are:\\n{np.round(Omega_bar_1-Omega_bar, 5)}\")\n",
        "\n"
      ],
      "metadata": {
        "colab": {
          "base_uri": "https://localhost:8080/"
        },
        "id": "mdVxCOB8-kNI",
        "outputId": "c56df040-307a-453e-e34b-2bea5e4e8755"
      },
      "execution_count": 12,
      "outputs": [
        {
          "output_type": "stream",
          "name": "stdout",
          "text": [
            "Posterior expectation of the mean return: \n",
            " [0.03563 0.06953 0.07647 0.09123 0.03702 0.05591 0.06072] \n",
            "\n",
            "Posterior Covariance Matrix of the mean return: \n",
            "[[0.00075 0.00044 0.00053 0.00058 0.00043 0.00048 0.00042]\n",
            " [0.00044 0.00107 0.00091 0.00091 0.00037 0.00072 0.00091]\n",
            " [0.00053 0.00091 0.00174 0.00152 0.00053 0.00115 0.00089]\n",
            " [0.00058 0.00091 0.00152 0.00174 0.00056 0.00122 0.00089]\n",
            " [0.00043 0.00037 0.00053 0.00056 0.00132 0.00051 0.00035]\n",
            " [0.00048 0.00072 0.00115 0.00122 0.00051 0.0012  0.00072]\n",
            " [0.00042 0.00091 0.00089 0.00089 0.00035 0.00072 0.00099]]\n",
            "\n",
            "\n",
            "The differences of the two versions for the mean are:\n",
            "[-0. -0. -0. -0. -0. -0. -0.]\n",
            "\n",
            "The differences of the two versions for the Covariance Matrix are:\n",
            "[[ 0. -0. -0.  0.  0. -0. -0.]\n",
            " [-0. -0. -0. -0. -0. -0. -0.]\n",
            " [-0. -0. -0. -0. -0. -0. -0.]\n",
            " [-0. -0. -0. -0. -0. -0. -0.]\n",
            " [-0. -0. -0. -0. -0. -0. -0.]\n",
            " [-0. -0. -0. -0. -0. -0. -0.]\n",
            " [-0. -0. -0. -0. -0. -0. -0.]]\n"
          ]
        }
      ]
    },
    {
      "cell_type": "code",
      "source": [
        "#2.4\n",
        "Sigma_hat = Omega_bar + Sigma\n",
        "w_star = np.linalg.inv(gamma*Sigma_hat).dot(mu_bar)\n",
        "print(f\"Optimal unconstrained mean-variance portfolio: \\n{np.round(w_star, 5)}\\n\")\n",
        "print(f\"The deviations between w_star and w_0  are:\\n {np.round(w_star-w_0,5)}\\n\")\n",
        "print(f\"The deviations between w_star and w_eq are:\\n {np.round(w_star-w_eq,5)}\")"
      ],
      "metadata": {
        "colab": {
          "base_uri": "https://localhost:8080/"
        },
        "id": "U-yNi5E7HJFT",
        "outputId": "068d5e97-3bac-43a7-9139-88252f2172a0"
      },
      "execution_count": null,
      "outputs": [
        {
          "output_type": "stream",
          "name": "stdout",
          "text": [
            "Optimal unconstrained mean-variance portfolio: \n",
            "[ 0.01553  0.38684 -0.04256  0.36832  0.11262 -0.10149  0.23161]\n",
            "\n",
            "The deviations between w_star and w_0  are:\n",
            " [ 0.       0.36548 -0.09304  0.31492  0.      -0.22188 -0.36548]\n",
            "\n",
            "The deviations between w_star and w_eq are:\n",
            " [-0.00047  0.36484 -0.09456  0.31332 -0.00338 -0.22549 -0.38339]\n"
          ]
        }
      ]
    },
    {
      "cell_type": "code",
      "source": [
        "#2.5\n",
        "#using the formula derived on paper (see pdf)\n",
        "Lambda_star = 1/gamma*np.linalg.inv((P.dot(Sigma.dot(P.T))+(1+1/tau)*Omega)).dot(q-(1/(1+tau)*P.dot(mu_0)))\n",
        "print(f\"lambda_1: {np.round(Lambda_star[0],5)}\")\n",
        "print(f\"lambda_2: {np.round(Lambda_star[1],5)}\")"
      ],
      "metadata": {
        "colab": {
          "base_uri": "https://localhost:8080/"
        },
        "id": "xO8d_fMHMXI9",
        "outputId": "141dd006-e998-4651-f6a4-20be564e5c25"
      },
      "execution_count": null,
      "outputs": [
        {
          "output_type": "stream",
          "name": "stdout",
          "text": [
            "lambda_1: 0.31492\n",
            "lambda_2: 0.36548\n"
          ]
        }
      ]
    },
    {
      "cell_type": "code",
      "source": [
        "#2.6 \n",
        "#new view portfolio:\n",
        "P = np.array([[0,0, -p_FR, 1, 0, -p_UK, 0],\n",
        "              [0, 1, 0, 0, 0, 0, -1],\n",
        "              [0, 0, 0, 0, 1, 0, 0]])\n",
        "\n",
        "Omega = np.array([[0.025*tau, 0, 0],\n",
        "                  [0, 0.015*tau, 0],\n",
        "                  [0, 0, 0.04*tau]])\n",
        "\n",
        "q = np.array([0.045, 0.02, 0.055])\n",
        "mu_bar = (np.linalg.inv(np.linalg.inv(Omega_0)+P.T.dot(np.linalg.inv(Omega).dot(P))).dot((np.linalg.inv(Omega_0)).dot(mu_0)+P.T.dot(np.linalg.inv(Omega).dot(q))))\n",
        "Omega_bar = np.linalg.inv(np.linalg.inv(Omega_0)+P.T.dot(np.linalg.inv(Omega).dot(P)))\n",
        "\n",
        "Sigma_hat = Omega_bar + Sigma\n",
        "w_star = np.linalg.inv(gamma*Sigma_hat).dot(mu_bar)\n",
        "\n",
        "Lambda_star = 1/gamma*np.linalg.inv((P.dot(Sigma.dot(P.T))+(1+1/tau)*Omega)).dot(q-(1/(1+tau)*P.dot(mu_0)))\n",
        "\n",
        "print(f\"Case 1: Uncertainty of 0.04*tau \\n \")\n",
        "print(f\"Optimal unconstrained mean-variance portfolio: \\n{np.round(w_star, 5)}\\n\")\n",
        "print(f\"lambda_1: {np.round(Lambda_star[0],5)}\")\n",
        "print(f\"lambda_2: {np.round(Lambda_star[1],5)}\")\n",
        "print(f\"lambda_3: {np.round(Lambda_star[2],5)}\")"
      ],
      "metadata": {
        "colab": {
          "base_uri": "https://localhost:8080/"
        },
        "id": "vIY-KI05SMPU",
        "outputId": "97da9217-4b8c-41a0-836d-2a0c5328974a"
      },
      "execution_count": 13,
      "outputs": [
        {
          "output_type": "stream",
          "name": "stdout",
          "text": [
            "Case 1: Uncertainty of 0.04*tau \n",
            " \n",
            "Optimal unconstrained mean-variance portfolio: \n",
            "[ 0.01553  0.3831  -0.04071  0.36207  0.22427 -0.09709  0.23534]\n",
            "\n",
            "lambda_1: 0.30867\n",
            "lambda_2: 0.36174\n",
            "lambda_3: 0.11164\n"
          ]
        }
      ]
    },
    {
      "cell_type": "code",
      "source": [
        "Omega = np.array([[0.025*tau, 0, 0],\n",
        "                  [0, 0.015*tau, 0],\n",
        "                  [0, 0, 0.01*tau]])\n",
        "mu_bar = (np.linalg.inv(np.linalg.inv(Omega_0)+P.T.dot(np.linalg.inv(Omega).dot(P))).dot((np.linalg.inv(Omega_0)).dot(mu_0)+P.T.dot(np.linalg.inv(Omega).dot(q))))\n",
        "Omega_bar = np.linalg.inv(np.linalg.inv(Omega_0)+P.T.dot(np.linalg.inv(Omega).dot(P)))\n",
        "\n",
        "Sigma_hat = Omega_bar + Sigma\n",
        "w_star = np.linalg.inv(gamma*Sigma_hat).dot(mu_bar)\n",
        "\n",
        "Lambda_star = 1/gamma*np.linalg.inv((P.dot(Sigma.dot(P.T))+(1+1/tau)*Omega)).dot(q-(1/(1+tau)*P.dot(mu_0)))\n",
        "\n",
        "print(f\"Case 2: Uncertainty of 0.01*tau \\n \")\n",
        "print(f\"Optimal unconstrained mean-variance portfolio: \\n{np.round(w_star, 5)}\\n\")\n",
        "print(f\"lambda_1: {np.round(Lambda_star[0],5)}\")\n",
        "print(f\"lambda_2: {np.round(Lambda_star[1],5)}\")\n",
        "print(f\"lambda_3: {np.round(Lambda_star[2],5)}\")\n"
      ],
      "metadata": {
        "colab": {
          "base_uri": "https://localhost:8080/"
        },
        "id": "pqfUR5bET47O",
        "outputId": "489f5563-8a4d-4765-c0f3-41c6fd53b264"
      },
      "execution_count": 14,
      "outputs": [
        {
          "output_type": "stream",
          "name": "stdout",
          "text": [
            "Case 2: Uncertainty of 0.01*tau \n",
            " \n",
            "Optimal unconstrained mean-variance portfolio: \n",
            "[ 0.01553  0.38097 -0.03966  0.35851  0.2879  -0.09458  0.23747]\n",
            "\n",
            "lambda_1: 0.30511\n",
            "lambda_2: 0.35961\n",
            "lambda_3: 0.17528\n"
          ]
        }
      ]
    },
    {
      "cell_type": "code",
      "source": [
        ""
      ],
      "metadata": {
        "id": "Rc7l9pRQVdMw"
      },
      "execution_count": 14,
      "outputs": []
    }
  ]
}